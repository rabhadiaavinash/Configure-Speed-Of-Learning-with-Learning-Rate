{
 "cells": [
  {
   "cell_type": "code",
   "execution_count": null,
   "metadata": {},
   "outputs": [],
   "source": []
  },
  {
   "cell_type": "code",
   "execution_count": 1,
   "metadata": {},
   "outputs": [
    {
     "name": "stderr",
     "output_type": "stream",
     "text": [
      "C:\\Anaconda3\\envs\\nlpiaenv\\lib\\site-packages\\sklearn\\utils\\deprecation.py:143: FutureWarning: The sklearn.datasets.samples_generator module is  deprecated in version 0.22 and will be removed in version 0.24. The corresponding classes / functions should instead be imported from sklearn.datasets. Anything that cannot be imported from sklearn.datasets is now part of the private API.\n",
      "  warnings.warn(message, FutureWarning)\n"
     ]
    }
   ],
   "source": [
    "from sklearn.datasets.samples_generator import make_blobs\n",
    "from tensorflow.keras.layers import Dense\n",
    "from tensorflow.keras.models import Sequential\n",
    "from tensorflow.keras.optimizers import SGD\n",
    "from tensorflow.keras.utils import to_categorical\n",
    "from tensorflow.keras.callbacks import Callback\n",
    "from tensorflow.keras.callbacks import ReduceLROnPlateau\n",
    "from tensorflow.keras import backend\n",
    "from matplotlib import pyplot"
   ]
  },
  {
   "cell_type": "code",
   "execution_count": null,
   "metadata": {},
   "outputs": [],
   "source": []
  },
  {
   "cell_type": "code",
   "execution_count": 2,
   "metadata": {},
   "outputs": [],
   "source": [
    "# monitor the learning rate\n",
    "class LearningRateMonitor(Callback):\n",
    "    \n",
    "    # start of training\n",
    "    def on_train_begin(self, logs={}):\n",
    "        self.lrates = list()\n",
    "\n",
    "    # end of each training epoch\n",
    "    def on_epoch_end(self, epoch, logs={}):\n",
    "        # get and store the learning rate\n",
    "        optimizer = self.model.optimizer\n",
    "        lrate = float(backend.get_value(optimizer.lr))\n",
    "        self.lrates.append(lrate)"
   ]
  },
  {
   "cell_type": "code",
   "execution_count": null,
   "metadata": {},
   "outputs": [],
   "source": []
  },
  {
   "cell_type": "code",
   "execution_count": 3,
   "metadata": {},
   "outputs": [],
   "source": [
    "# prepare train and test dataset\n",
    "def prepare_data():\n",
    "    \n",
    "    # generate 2d classification dataset\n",
    "    X, y = make_blobs(n_samples=1000, centers=3, n_features=2, cluster_std=2, random_state=2)\n",
    "\n",
    "    # one hot encode output variable\n",
    "    y = to_categorical(y)\n",
    "    # split into train and test\n",
    "    n_train = 500\n",
    "    trainX, testX = X[:n_train, :], X[n_train:, :]\n",
    "    trainy, testy = y[:n_train], y[n_train:]\n",
    "    return trainX, trainy, testX, testy"
   ]
  },
  {
   "cell_type": "code",
   "execution_count": null,
   "metadata": {},
   "outputs": [],
   "source": []
  },
  {
   "cell_type": "code",
   "execution_count": 4,
   "metadata": {},
   "outputs": [],
   "source": [
    "# fit a model and plot learning curve\n",
    "def fit_model(trainX, trainy, testX, testy, patience):\n",
    "    # define model\n",
    "    model = Sequential()\n",
    "    model.add(Dense(50, input_dim=2, activation='relu', kernel_initializer='he_uniform'))\n",
    "    model.add(Dense(3, activation='softmax'))\n",
    "\n",
    "    # compile model\n",
    "    opt = SGD(lr=0.01)\n",
    "    model.compile(loss='categorical_crossentropy', optimizer=opt, metrics=['accuracy'])\n",
    "\n",
    "    # fit model\n",
    "    rlrp = ReduceLROnPlateau(monitor='val_loss', factor=0.1, patience=patience,min_delta=1E-7)\n",
    "    lrm = LearningRateMonitor()\n",
    "    history = model.fit(trainX, trainy, validation_data=(testX, testy), epochs=200,\n",
    "                        verbose=0, callbacks=[rlrp, lrm])\n",
    "    return lrm.lrates, history.history['loss'], history.history['accuracy']"
   ]
  },
  {
   "cell_type": "code",
   "execution_count": null,
   "metadata": {},
   "outputs": [],
   "source": []
  },
  {
   "cell_type": "code",
   "execution_count": 5,
   "metadata": {},
   "outputs": [],
   "source": [
    "# create line plots for a series\n",
    "def line_plots(patiences, series):\n",
    "    for i in range(len(patiences)):\n",
    "        pyplot.subplot(220 + (i+1))\n",
    "        pyplot.plot(series[i])\n",
    "        pyplot.title('patience='+str(patiences[i]), pad=-80)\n",
    "    pyplot.show()"
   ]
  },
  {
   "cell_type": "code",
   "execution_count": null,
   "metadata": {},
   "outputs": [],
   "source": []
  },
  {
   "cell_type": "code",
   "execution_count": 6,
   "metadata": {},
   "outputs": [],
   "source": [
    "# prepare dataset\n",
    "trainX, trainy, testX, testy = prepare_data()"
   ]
  },
  {
   "cell_type": "code",
   "execution_count": null,
   "metadata": {},
   "outputs": [],
   "source": []
  },
  {
   "cell_type": "code",
   "execution_count": 7,
   "metadata": {},
   "outputs": [],
   "source": [
    "# create learning curves for different patiences\n",
    "patiences = [2, 5, 10, 15]"
   ]
  },
  {
   "cell_type": "code",
   "execution_count": null,
   "metadata": {},
   "outputs": [],
   "source": []
  },
  {
   "cell_type": "code",
   "execution_count": 8,
   "metadata": {},
   "outputs": [],
   "source": [
    "lr_list, loss_list, acc_list, = list(), list(), list()"
   ]
  },
  {
   "cell_type": "code",
   "execution_count": null,
   "metadata": {},
   "outputs": [],
   "source": []
  },
  {
   "cell_type": "code",
   "execution_count": 9,
   "metadata": {},
   "outputs": [],
   "source": [
    "for i in range(len(patiences)):\n",
    "    # fit model and plot learning curves for a patience\n",
    "    lr, loss, acc = fit_model(trainX, trainy, testX, testy, patiences[i])\n",
    "    lr_list.append(lr)\n",
    "    loss_list.append(loss)\n",
    "    acc_list.append(acc)"
   ]
  },
  {
   "cell_type": "code",
   "execution_count": null,
   "metadata": {},
   "outputs": [],
   "source": []
  },
  {
   "cell_type": "code",
   "execution_count": 10,
   "metadata": {},
   "outputs": [
    {
     "data": {
      "image/png": "[encoded data removed]",
      "text/plain": [
       "<Figure size 432x288 with 4 Axes>"
      ]
     },
     "metadata": {
      "needs_background": "light"
     },
     "output_type": "display_data"
    }
   ],
   "source": [
    "# plot learning rates\n",
    "line_plots(patiences, lr_list)"
   ]
  },
  {
   "cell_type": "code",
   "execution_count": null,
   "metadata": {},
   "outputs": [],
   "source": [
    "'''The first figure shows line plots of the learning rate over the training epochs for each of the\n",
    "evaluated patience values. We can see that the smallest patience value of two rapidly drops the\n",
    "learning rate to a minimum value within 25 epochs, the largest patience of 15 only suffers one\n",
    "drop in the learning rate. From these plots, we would expect the patience values of 5 and 10 for\n",
    "this model on this problem to result in better performance as they allow the larger learning rate\n",
    "to be used for some time before dropping the rate to refine the weights.'''"
   ]
  },
  {
   "cell_type": "code",
   "execution_count": 11,
   "metadata": {},
   "outputs": [
    {
     "data": {
      "image/png": "[encoded data removed]",
      "text/plain": [
       "<Figure size 432x288 with 4 Axes>"
      ]
     },
     "metadata": {
      "needs_background": "light"
     },
     "output_type": "display_data"
    }
   ],
   "source": [
    "# plot loss\n",
    "line_plots(patiences, loss_list)"
   ]
  },
  {
   "cell_type": "code",
   "execution_count": null,
   "metadata": {},
   "outputs": [],
   "source": [
    "'''The next figure shows the loss on the training dataset for each of the patience values. The\n",
    "plot shows that the patience values of 2 and 5 result in a rapid convergence of the model,\n",
    "perhaps to a sub-optimal loss value. In the case of a patience level of 10 and 15, loss drops\n",
    "reasonably until the learning rate is dropped below a level that large changes to the loss can be\n",
    "seen. This occurs halfway for the patience of 10 and nearly the end of the run for patience 15.'''"
   ]
  },
  {
   "cell_type": "code",
   "execution_count": 12,
   "metadata": {},
   "outputs": [
    {
     "data": {
      "image/png": "[encoded data removed]",
      "text/plain": [
       "<Figure size 432x288 with 4 Axes>"
      ]
     },
     "metadata": {
      "needs_background": "light"
     },
     "output_type": "display_data"
    }
   ],
   "source": [
    "# plot accuracy\n",
    "line_plots(patiences, acc_list)"
   ]
  },
  {
   "cell_type": "code",
   "execution_count": null,
   "metadata": {},
   "outputs": [],
   "source": [
    "'''The final figure shows the training set accuracy over training epochs for each patience\n",
    "value. We can see that indeed the small patience values of 2 and 5 epochs results in premature\n",
    "convergence of the model to a less-than-optimal model at around 65% and less than 75%\n",
    "accuracy respectively. The larger patience values result in better performing models, with the\n",
    "patience of 10 showing convergence just before 150 epochs, whereas the patience 15 continues\n",
    "to show the effects of a volatile accuracy given the nearly completely unchanged learning rate.\n",
    "These plots show how a learning rate that is decreased a sensible way for the problem and\n",
    "chosen model configuration can result in both a skillful and converged stable set of final weights,\n",
    "a desirable property in a final model at the end of a training run.'''"
   ]
  },
  {
   "cell_type": "code",
   "execution_count": null,
   "metadata": {},
   "outputs": [],
   "source": []
  }
 ],
 "metadata": {
  "kernelspec": {
   "display_name": "Python 3",
   "language": "python",
   "name": "python3"
  },
  "language_info": {
   "codemirror_mode": {
    "name": "ipython",
    "version": 3
   },
   "file_extension": ".py",
   "mimetype": "text/x-python",
   "name": "python",
   "nbconvert_exporter": "python",
   "pygments_lexer": "ipython3",
   "version": "3.7.1"
  }
 },
 "nbformat": 4,
 "nbformat_minor": 4
}
